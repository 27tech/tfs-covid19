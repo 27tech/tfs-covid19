{
 "cells": [
  {
   "cell_type": "code",
   "execution_count": 1,
   "metadata": {
    "collapsed": true
   },
   "outputs": [],
   "source": [
    "# !pip install --upgrade tsfresh"
   ]
  },
  {
   "cell_type": "code",
   "execution_count": 13,
   "outputs": [],
   "source": [
    "\n",
    "import numpy as np\n",
    "from sklearn.ensemble import RandomForestClassifier\n",
    "from sklearn.model_selection import train_test_split\n",
    "from sklearn.pipeline import make_pipeline\n",
    "\n",
    "from sktime.datasets import load_arrow_head, load_basic_motions\n",
    "# from sktime.transformations.panel.tsfresh import TSFreshFeatureExtractor"
   ],
   "metadata": {
    "collapsed": false,
    "pycharm": {
     "name": "#%%\n"
    }
   }
  },
  {
   "cell_type": "code",
   "execution_count": 7,
   "outputs": [
    {
     "name": "stdout",
     "output_type": "stream",
     "text": [
      "                                                 dim_0\n",
      "0    0     -1.9630\n",
      "1     -1.9578\n",
      "2     -1.9561\n",
      "3   ...\n",
      "1    0     -1.7746\n",
      "1     -1.7740\n",
      "2     -1.7766\n",
      "3   ...\n",
      "2    0     -1.8660\n",
      "1     -1.8420\n",
      "2     -1.8350\n",
      "3   ...\n",
      "3    0     -2.0738\n",
      "1     -2.0733\n",
      "2     -2.0446\n",
      "3   ...\n",
      "4    0     -1.7463\n",
      "1     -1.7413\n",
      "2     -1.7227\n",
      "3   ...\n",
      "..                                                 ...\n",
      "170  0     -1.6251\n",
      "1     -1.6230\n",
      "2     -1.6261\n",
      "3   ...\n",
      "171  0     -1.6578\n",
      "1     -1.6647\n",
      "2     -1.6326\n",
      "3   ...\n",
      "172  0     -1.6033\n",
      "1     -1.5874\n",
      "2     -1.5774\n",
      "3   ...\n",
      "173  0     -1.7390\n",
      "1     -1.7415\n",
      "2     -1.7329\n",
      "3   ...\n",
      "174  0     -1.6307\n",
      "1     -1.6299\n",
      "2     -1.6206\n",
      "3   ...\n",
      "\n",
      "[211 rows x 1 columns]\n"
     ]
    }
   ],
   "source": [
    "h = load_arrow_head()\n",
    "# print(h.head(10))\n",
    "X, y = load_arrow_head(return_X_y=True)\n",
    "print(X)"
   ],
   "metadata": {
    "collapsed": false,
    "pycharm": {
     "name": "#%%\n"
    }
   }
  },
  {
   "cell_type": "code",
   "execution_count": 8,
   "outputs": [
    {
     "name": "stdout",
     "output_type": "stream",
     "text": [
      "0      0\n",
      "1      1\n",
      "2      2\n",
      "3      0\n",
      "4      1\n",
      "      ..\n",
      "170    2\n",
      "171    2\n",
      "172    2\n",
      "173    2\n",
      "174    2\n",
      "Length: 211, dtype: object\n"
     ]
    }
   ],
   "source": [
    "print(y)"
   ],
   "metadata": {
    "collapsed": false,
    "pycharm": {
     "name": "#%%\n"
    }
   }
  },
  {
   "cell_type": "code",
   "execution_count": 9,
   "outputs": [
    {
     "name": "stdout",
     "output_type": "stream",
     "text": [
      "(158, 1) (158,) (53, 1) (53,)\n"
     ]
    }
   ],
   "source": [
    "X_train, X_test, y_train, y_test = train_test_split(X, y)\n",
    "print(X_train.shape, y_train.shape, X_test.shape, y_test.shape)"
   ],
   "metadata": {
    "collapsed": false,
    "pycharm": {
     "name": "#%%\n"
    }
   }
  },
  {
   "cell_type": "code",
   "execution_count": 10,
   "outputs": [
    {
     "data": {
      "text/plain": "                                                 dim_0\n115  0     -1.8902\n1     -1.9045\n2     -1.9043\n3   ...\n59   0     -1.9969\n1     -2.0076\n2     -2.0010\n3   ...\n31   0     -1.9608\n1     -1.9304\n2     -1.8643\n3   ...\n75   0     -1.7216\n1     -1.7366\n2     -1.7190\n3   ...\n155  0     -1.9946\n1     -1.9933\n2     -1.9733\n3   ...",
      "text/html": "<div>\n<style scoped>\n    .dataframe tbody tr th:only-of-type {\n        vertical-align: middle;\n    }\n\n    .dataframe tbody tr th {\n        vertical-align: top;\n    }\n\n    .dataframe thead th {\n        text-align: right;\n    }\n</style>\n<table border=\"1\" class=\"dataframe\">\n  <thead>\n    <tr style=\"text-align: right;\">\n      <th></th>\n      <th>dim_0</th>\n    </tr>\n  </thead>\n  <tbody>\n    <tr>\n      <th>115</th>\n      <td>0     -1.8902\n1     -1.9045\n2     -1.9043\n3   ...</td>\n    </tr>\n    <tr>\n      <th>59</th>\n      <td>0     -1.9969\n1     -2.0076\n2     -2.0010\n3   ...</td>\n    </tr>\n    <tr>\n      <th>31</th>\n      <td>0     -1.9608\n1     -1.9304\n2     -1.8643\n3   ...</td>\n    </tr>\n    <tr>\n      <th>75</th>\n      <td>0     -1.7216\n1     -1.7366\n2     -1.7190\n3   ...</td>\n    </tr>\n    <tr>\n      <th>155</th>\n      <td>0     -1.9946\n1     -1.9933\n2     -1.9733\n3   ...</td>\n    </tr>\n  </tbody>\n</table>\n</div>"
     },
     "execution_count": 10,
     "metadata": {},
     "output_type": "execute_result"
    }
   ],
   "source": [
    "\n",
    "X_train.head()"
   ],
   "metadata": {
    "collapsed": false,
    "pycharm": {
     "name": "#%%\n"
    }
   }
  },
  {
   "cell_type": "code",
   "execution_count": 15,
   "outputs": [
    {
     "name": "stderr",
     "output_type": "stream",
     "text": [
      "/Users/denis/projects/tfs-covid19/venv/lib/python3.9/site-packages/sktime/transformers/series_as_features/summarize/_tsfresh.py:163: UserWarning: Found non-unique index, replaced with unique index.\n",
      "  warn(\"Found non-unique index, replaced with unique index.\")\n",
      "Feature Extraction: 100%|██████████| 5/5 [00:13<00:00,  2.67s/it]\n"
     ]
    },
    {
     "data": {
      "text/plain": "   dim_0__variance_larger_than_standard_deviation  dim_0__has_duplicate_max  \\\n0                                             0.0                       1.0   \n1                                             0.0                       0.0   \n2                                             0.0                       0.0   \n3                                             0.0                       0.0   \n4                                             0.0                       0.0   \n\n   dim_0__has_duplicate_min  dim_0__has_duplicate  dim_0__sum_values  \\\n0                       0.0                   1.0           0.000045   \n1                       0.0                   1.0          -0.000223   \n2                       0.0                   1.0           0.000036   \n3                       0.0                   1.0           0.000266   \n4                       0.0                   1.0           0.000616   \n\n   dim_0__abs_energy  dim_0__mean_abs_change  dim_0__mean_change  \\\n0         249.998225                0.319421            0.005990   \n1         249.999003                0.341776            0.004884   \n2         249.999736                0.334898            0.004265   \n3         249.998008                0.323381            0.005002   \n4         250.000403                0.352349            0.005648   \n\n   dim_0__mean_second_derivative_central  dim_0__median  ...  \\\n0                              -0.000030       0.073774  ...   \n1                               0.000024      -0.194770  ...   \n2                               0.000113       0.144620  ...   \n3                              -0.000072       0.060660  ...   \n4                              -0.000167       0.024813  ...   \n\n   dim_0__fourier_entropy__bins_2  dim_0__fourier_entropy__bins_3  \\\n0                        0.081510                        0.092513   \n1                        0.081510                        0.081510   \n2                        0.046288                        0.092513   \n3                        0.081510                        0.081510   \n4                        0.081510                        0.092513   \n\n   dim_0__fourier_entropy__bins_5  dim_0__fourier_entropy__bins_10  \\\n0                        0.092513                         0.204643   \n1                        0.127671                         0.184769   \n2                        0.127671                         0.184769   \n3                        0.092513                         0.173767   \n4                        0.092513                         0.204643   \n\n   dim_0__fourier_entropy__bins_100  \\\n0                          1.153134   \n1                          1.226987   \n2                          0.945472   \n3                          1.068106   \n4                          1.149982   \n\n   dim_0__permutation_entropy__dimension_3__tau_1  \\\n0                                        1.490591   \n1                                        1.535460   \n2                                        1.394891   \n3                                        1.417964   \n4                                        1.463628   \n\n   dim_0__permutation_entropy__dimension_4__tau_1  \\\n0                                        2.271597   \n1                                        2.355170   \n2                                        2.028676   \n3                                        2.119343   \n4                                        2.231168   \n\n   dim_0__permutation_entropy__dimension_5__tau_1  \\\n0                                        3.002039   \n1                                        2.990719   \n2                                        2.613186   \n3                                        2.697285   \n4                                        2.905745   \n\n   dim_0__permutation_entropy__dimension_6__tau_1  \\\n0                                        3.515664   \n1                                        3.530660   \n2                                        3.107059   \n3                                        3.186104   \n4                                        3.498256   \n\n   dim_0__permutation_entropy__dimension_7__tau_1  \n0                                        3.921543  \n1                                        3.961005  \n2                                        3.532757  \n3                                        3.608864  \n4                                        3.958876  \n\n[5 rows x 773 columns]",
      "text/html": "<div>\n<style scoped>\n    .dataframe tbody tr th:only-of-type {\n        vertical-align: middle;\n    }\n\n    .dataframe tbody tr th {\n        vertical-align: top;\n    }\n\n    .dataframe thead th {\n        text-align: right;\n    }\n</style>\n<table border=\"1\" class=\"dataframe\">\n  <thead>\n    <tr style=\"text-align: right;\">\n      <th></th>\n      <th>dim_0__variance_larger_than_standard_deviation</th>\n      <th>dim_0__has_duplicate_max</th>\n      <th>dim_0__has_duplicate_min</th>\n      <th>dim_0__has_duplicate</th>\n      <th>dim_0__sum_values</th>\n      <th>dim_0__abs_energy</th>\n      <th>dim_0__mean_abs_change</th>\n      <th>dim_0__mean_change</th>\n      <th>dim_0__mean_second_derivative_central</th>\n      <th>dim_0__median</th>\n      <th>...</th>\n      <th>dim_0__fourier_entropy__bins_2</th>\n      <th>dim_0__fourier_entropy__bins_3</th>\n      <th>dim_0__fourier_entropy__bins_5</th>\n      <th>dim_0__fourier_entropy__bins_10</th>\n      <th>dim_0__fourier_entropy__bins_100</th>\n      <th>dim_0__permutation_entropy__dimension_3__tau_1</th>\n      <th>dim_0__permutation_entropy__dimension_4__tau_1</th>\n      <th>dim_0__permutation_entropy__dimension_5__tau_1</th>\n      <th>dim_0__permutation_entropy__dimension_6__tau_1</th>\n      <th>dim_0__permutation_entropy__dimension_7__tau_1</th>\n    </tr>\n  </thead>\n  <tbody>\n    <tr>\n      <th>0</th>\n      <td>0.0</td>\n      <td>1.0</td>\n      <td>0.0</td>\n      <td>1.0</td>\n      <td>0.000045</td>\n      <td>249.998225</td>\n      <td>0.319421</td>\n      <td>0.005990</td>\n      <td>-0.000030</td>\n      <td>0.073774</td>\n      <td>...</td>\n      <td>0.081510</td>\n      <td>0.092513</td>\n      <td>0.092513</td>\n      <td>0.204643</td>\n      <td>1.153134</td>\n      <td>1.490591</td>\n      <td>2.271597</td>\n      <td>3.002039</td>\n      <td>3.515664</td>\n      <td>3.921543</td>\n    </tr>\n    <tr>\n      <th>1</th>\n      <td>0.0</td>\n      <td>0.0</td>\n      <td>0.0</td>\n      <td>1.0</td>\n      <td>-0.000223</td>\n      <td>249.999003</td>\n      <td>0.341776</td>\n      <td>0.004884</td>\n      <td>0.000024</td>\n      <td>-0.194770</td>\n      <td>...</td>\n      <td>0.081510</td>\n      <td>0.081510</td>\n      <td>0.127671</td>\n      <td>0.184769</td>\n      <td>1.226987</td>\n      <td>1.535460</td>\n      <td>2.355170</td>\n      <td>2.990719</td>\n      <td>3.530660</td>\n      <td>3.961005</td>\n    </tr>\n    <tr>\n      <th>2</th>\n      <td>0.0</td>\n      <td>0.0</td>\n      <td>0.0</td>\n      <td>1.0</td>\n      <td>0.000036</td>\n      <td>249.999736</td>\n      <td>0.334898</td>\n      <td>0.004265</td>\n      <td>0.000113</td>\n      <td>0.144620</td>\n      <td>...</td>\n      <td>0.046288</td>\n      <td>0.092513</td>\n      <td>0.127671</td>\n      <td>0.184769</td>\n      <td>0.945472</td>\n      <td>1.394891</td>\n      <td>2.028676</td>\n      <td>2.613186</td>\n      <td>3.107059</td>\n      <td>3.532757</td>\n    </tr>\n    <tr>\n      <th>3</th>\n      <td>0.0</td>\n      <td>0.0</td>\n      <td>0.0</td>\n      <td>1.0</td>\n      <td>0.000266</td>\n      <td>249.998008</td>\n      <td>0.323381</td>\n      <td>0.005002</td>\n      <td>-0.000072</td>\n      <td>0.060660</td>\n      <td>...</td>\n      <td>0.081510</td>\n      <td>0.081510</td>\n      <td>0.092513</td>\n      <td>0.173767</td>\n      <td>1.068106</td>\n      <td>1.417964</td>\n      <td>2.119343</td>\n      <td>2.697285</td>\n      <td>3.186104</td>\n      <td>3.608864</td>\n    </tr>\n    <tr>\n      <th>4</th>\n      <td>0.0</td>\n      <td>0.0</td>\n      <td>0.0</td>\n      <td>1.0</td>\n      <td>0.000616</td>\n      <td>250.000403</td>\n      <td>0.352349</td>\n      <td>0.005648</td>\n      <td>-0.000167</td>\n      <td>0.024813</td>\n      <td>...</td>\n      <td>0.081510</td>\n      <td>0.092513</td>\n      <td>0.092513</td>\n      <td>0.204643</td>\n      <td>1.149982</td>\n      <td>1.463628</td>\n      <td>2.231168</td>\n      <td>2.905745</td>\n      <td>3.498256</td>\n      <td>3.958876</td>\n    </tr>\n  </tbody>\n</table>\n<p>5 rows × 773 columns</p>\n</div>"
     },
     "execution_count": 15,
     "metadata": {},
     "output_type": "execute_result"
    }
   ],
   "source": [
    "from sktime.transformers.series_as_features.summarize import TSFreshFeatureExtractor\n",
    "t = TSFreshFeatureExtractor(default_fc_parameters=\"efficient\", show_warnings=False)\n",
    "Xt = t.fit_transform(X_train)\n",
    "Xt.head()"
   ],
   "metadata": {
    "collapsed": false,
    "pycharm": {
     "name": "#%%\n"
    }
   }
  },
  {
   "cell_type": "code",
   "execution_count": 16,
   "outputs": [],
   "source": [
    "classifier = make_pipeline(\n",
    "    TSFreshFeatureExtractor(default_fc_parameters=\"efficient\", show_warnings=False),\n",
    "    RandomForestClassifier(),\n",
    ")"
   ],
   "metadata": {
    "collapsed": false,
    "pycharm": {
     "name": "#%%\n"
    }
   }
  },
  {
   "cell_type": "code",
   "execution_count": 17,
   "outputs": [
    {
     "name": "stderr",
     "output_type": "stream",
     "text": [
      "/Users/denis/projects/tfs-covid19/venv/lib/python3.9/site-packages/sktime/transformers/series_as_features/summarize/_tsfresh.py:163: UserWarning: Found non-unique index, replaced with unique index.\n",
      "  warn(\"Found non-unique index, replaced with unique index.\")\n",
      "Feature Extraction: 100%|██████████| 5/5 [00:13<00:00,  2.68s/it]\n"
     ]
    },
    {
     "data": {
      "text/plain": "Pipeline(steps=[('tsfreshfeatureextractor',\n                 TSFreshFeatureExtractor(show_warnings=False)),\n                ('randomforestclassifier', RandomForestClassifier())])"
     },
     "execution_count": 17,
     "metadata": {},
     "output_type": "execute_result"
    }
   ],
   "source": [
    "classifier.fit(X_train, y_train)"
   ],
   "metadata": {
    "collapsed": false,
    "pycharm": {
     "name": "#%%\n"
    }
   }
  },
  {
   "cell_type": "code",
   "execution_count": 18,
   "outputs": [
    {
     "name": "stderr",
     "output_type": "stream",
     "text": [
      "/Users/denis/projects/tfs-covid19/venv/lib/python3.9/site-packages/sktime/transformers/series_as_features/summarize/_tsfresh.py:163: UserWarning: Found non-unique index, replaced with unique index.\n",
      "  warn(\"Found non-unique index, replaced with unique index.\")\n",
      "Feature Extraction: 100%|██████████| 5/5 [00:05<00:00,  1.01s/it]\n"
     ]
    },
    {
     "data": {
      "text/plain": "0.7924528301886793"
     },
     "execution_count": 18,
     "metadata": {},
     "output_type": "execute_result"
    }
   ],
   "source": [
    "classifier.score(X_test, y_test)"
   ],
   "metadata": {
    "collapsed": false,
    "pycharm": {
     "name": "#%%\n"
    }
   }
  },
  {
   "cell_type": "code",
   "execution_count": 19,
   "outputs": [
    {
     "name": "stdout",
     "output_type": "stream",
     "text": [
      "(60, 6) (60,) (20, 6) (20,)\n"
     ]
    }
   ],
   "source": [
    "X, y = load_basic_motions(return_X_y=True)\n",
    "X_train, X_test, y_train, y_test = train_test_split(X, y)\n",
    "print(X_train.shape, y_train.shape, X_test.shape, y_test.shape)"
   ],
   "metadata": {
    "collapsed": false,
    "pycharm": {
     "name": "#%%\n"
    }
   }
  },
  {
   "cell_type": "code",
   "execution_count": 20,
   "outputs": [
    {
     "data": {
      "text/plain": "                                                dim_0  \\\n3   0    -1.088052\n1    -1.088052\n2    -0.683620\n3...   \n0   0     0.079106\n1     0.079106\n2    -0.903497\n3...   \n25  0    -0.185181\n1    -0.185181\n2    -1.319727\n3...   \n27  0    -0.255266\n1    -0.255266\n2    -0.792226\n3...   \n14  0      1.186069\n1      1.186069\n2      0.02547...   \n\n                                                dim_1  \\\n3   0     0.183832\n1     0.183832\n2    -2.909047\n3...   \n0   0     0.394032\n1     0.394032\n2    -3.666397\n3...   \n25  0     0.059288\n1     0.059288\n2    -1.194247\n3...   \n27  0    -0.154748\n1    -0.154748\n2    -1.176848\n3...   \n14  0      0.013225\n1      0.013225\n2      1.92628...   \n\n                                                dim_2  \\\n3   0    -0.260871\n1    -0.260871\n2     1.507042\n3...   \n0   0     0.551444\n1     0.551444\n2    -0.282844\n3...   \n25  0     0.250270\n1     0.250270\n2     0.418052\n3...   \n27  0    -0.273293\n1    -0.273293\n2    -0.709993\n3...   \n14  0    -0.377872\n1    -0.377872\n2    -1.253871\n3...   \n\n                                                dim_3  \\\n3   0    -0.284981\n1    -0.284981\n2     0.415486\n3...   \n0   0     0.351565\n1     0.351565\n2    -0.095881\n3...   \n25  0     0.154476\n1     0.154476\n2     0.047941\n3...   \n27  0    -0.050604\n1    -0.050604\n2    -0.237040\n3...   \n14  0     0.367545\n1     0.367545\n2     0.221060\n3...   \n\n                                                dim_4  \\\n3   0     0.487397\n1     0.487397\n2     0.013317\n3...   \n0   0     0.023970\n1     0.023970\n2    -0.319605\n3...   \n25  0     0.167792\n1     0.167792\n2    -0.215733\n3...   \n27  0     0.015980\n1     0.015980\n2    -0.314278\n3...   \n14  0    -0.253020\n1    -0.253020\n2    -0.500714\n3...   \n\n                                                dim_5  \n3   0     1.081329\n1     1.081329\n2     0.820319\n3...  \n0   0     0.633883\n1     0.633883\n2     0.972131\n3...  \n25  0     0.732428\n1     0.732428\n2    -0.050604\n3...  \n27  0     0.013317\n1     0.013317\n2     0.170456\n3...  \n14  0     0.114525\n1     0.114525\n2    -0.173119\n3...  ",
      "text/html": "<div>\n<style scoped>\n    .dataframe tbody tr th:only-of-type {\n        vertical-align: middle;\n    }\n\n    .dataframe tbody tr th {\n        vertical-align: top;\n    }\n\n    .dataframe thead th {\n        text-align: right;\n    }\n</style>\n<table border=\"1\" class=\"dataframe\">\n  <thead>\n    <tr style=\"text-align: right;\">\n      <th></th>\n      <th>dim_0</th>\n      <th>dim_1</th>\n      <th>dim_2</th>\n      <th>dim_3</th>\n      <th>dim_4</th>\n      <th>dim_5</th>\n    </tr>\n  </thead>\n  <tbody>\n    <tr>\n      <th>3</th>\n      <td>0    -1.088052\n1    -1.088052\n2    -0.683620\n3...</td>\n      <td>0     0.183832\n1     0.183832\n2    -2.909047\n3...</td>\n      <td>0    -0.260871\n1    -0.260871\n2     1.507042\n3...</td>\n      <td>0    -0.284981\n1    -0.284981\n2     0.415486\n3...</td>\n      <td>0     0.487397\n1     0.487397\n2     0.013317\n3...</td>\n      <td>0     1.081329\n1     1.081329\n2     0.820319\n3...</td>\n    </tr>\n    <tr>\n      <th>0</th>\n      <td>0     0.079106\n1     0.079106\n2    -0.903497\n3...</td>\n      <td>0     0.394032\n1     0.394032\n2    -3.666397\n3...</td>\n      <td>0     0.551444\n1     0.551444\n2    -0.282844\n3...</td>\n      <td>0     0.351565\n1     0.351565\n2    -0.095881\n3...</td>\n      <td>0     0.023970\n1     0.023970\n2    -0.319605\n3...</td>\n      <td>0     0.633883\n1     0.633883\n2     0.972131\n3...</td>\n    </tr>\n    <tr>\n      <th>25</th>\n      <td>0    -0.185181\n1    -0.185181\n2    -1.319727\n3...</td>\n      <td>0     0.059288\n1     0.059288\n2    -1.194247\n3...</td>\n      <td>0     0.250270\n1     0.250270\n2     0.418052\n3...</td>\n      <td>0     0.154476\n1     0.154476\n2     0.047941\n3...</td>\n      <td>0     0.167792\n1     0.167792\n2    -0.215733\n3...</td>\n      <td>0     0.732428\n1     0.732428\n2    -0.050604\n3...</td>\n    </tr>\n    <tr>\n      <th>27</th>\n      <td>0    -0.255266\n1    -0.255266\n2    -0.792226\n3...</td>\n      <td>0    -0.154748\n1    -0.154748\n2    -1.176848\n3...</td>\n      <td>0    -0.273293\n1    -0.273293\n2    -0.709993\n3...</td>\n      <td>0    -0.050604\n1    -0.050604\n2    -0.237040\n3...</td>\n      <td>0     0.015980\n1     0.015980\n2    -0.314278\n3...</td>\n      <td>0     0.013317\n1     0.013317\n2     0.170456\n3...</td>\n    </tr>\n    <tr>\n      <th>14</th>\n      <td>0      1.186069\n1      1.186069\n2      0.02547...</td>\n      <td>0      0.013225\n1      0.013225\n2      1.92628...</td>\n      <td>0    -0.377872\n1    -0.377872\n2    -1.253871\n3...</td>\n      <td>0     0.367545\n1     0.367545\n2     0.221060\n3...</td>\n      <td>0    -0.253020\n1    -0.253020\n2    -0.500714\n3...</td>\n      <td>0     0.114525\n1     0.114525\n2    -0.173119\n3...</td>\n    </tr>\n  </tbody>\n</table>\n</div>"
     },
     "execution_count": 20,
     "metadata": {},
     "output_type": "execute_result"
    }
   ],
   "source": [
    "X_train.head()"
   ],
   "metadata": {
    "collapsed": false,
    "pycharm": {
     "name": "#%%\n"
    }
   }
  },
  {
   "cell_type": "code",
   "execution_count": 21,
   "outputs": [
    {
     "name": "stderr",
     "output_type": "stream",
     "text": [
      "/Users/denis/projects/tfs-covid19/venv/lib/python3.9/site-packages/sktime/transformers/series_as_features/summarize/_tsfresh.py:163: UserWarning: Found non-unique index, replaced with unique index.\n",
      "  warn(\"Found non-unique index, replaced with unique index.\")\n",
      "Feature Extraction: 100%|██████████| 5/5 [00:21<00:00,  4.20s/it]\n"
     ]
    },
    {
     "data": {
      "text/plain": "   dim_0__variance_larger_than_standard_deviation  dim_0__has_duplicate_max  \\\n0                                             0.0                       0.0   \n1                                             0.0                       0.0   \n2                                             1.0                       0.0   \n3                                             1.0                       1.0   \n4                                             1.0                       0.0   \n\n   dim_0__has_duplicate_min  dim_0__has_duplicate  dim_0__sum_values  \\\n0                       1.0                   1.0         -15.850238   \n1                       0.0                   1.0          -8.618429   \n2                       0.0                   1.0          54.455230   \n3                       0.0                   1.0          54.248883   \n4                       0.0                   1.0         572.652728   \n\n   dim_0__abs_energy  dim_0__mean_abs_change  dim_0__mean_change  \\\n0           9.885558                0.189084            0.008776   \n1          10.629914                0.229193           -0.002871   \n2         182.497205                0.921471            0.011501   \n3         176.508713                0.979276           -0.009260   \n4       15899.872790                9.464065            0.145859   \n\n   dim_0__mean_second_derivative_central  dim_0__median  ...  \\\n0                               0.000000      -0.173755  ...   \n1                              -0.000061      -0.164268  ...   \n2                               0.006315       0.515937  ...   \n3                              -0.000214       0.487162  ...   \n4                               0.117438      10.569595  ...   \n\n   dim_5__fourier_entropy__bins_2  dim_5__fourier_entropy__bins_3  \\\n0                        0.399949                        0.587228   \n1                        0.320753                        0.647776   \n2                        0.096509                        0.192626   \n3                        0.165443                        0.165443   \n4                        0.096509                        0.192626   \n\n   dim_5__fourier_entropy__bins_5  dim_5__fourier_entropy__bins_10  \\\n0                        0.800609                         1.174565   \n1                        1.124025                         1.459587   \n2                        0.261160                         0.288342   \n3                        0.192626                         0.192626   \n4                        0.192626                         0.356468   \n\n   dim_5__fourier_entropy__bins_100  \\\n0                          2.571628   \n1                          3.130035   \n2                          1.148247   \n3                          1.168582   \n4                          1.291345   \n\n   dim_5__permutation_entropy__dimension_3__tau_1  \\\n0                                        1.670317   \n1                                        1.599592   \n2                                        1.490467   \n3                                        1.549961   \n4                                        1.580672   \n\n   dim_5__permutation_entropy__dimension_4__tau_1  \\\n0                                        2.754194   \n1                                        2.614086   \n2                                        2.391433   \n3                                        2.471065   \n4                                        2.552210   \n\n   dim_5__permutation_entropy__dimension_5__tau_1  \\\n0                                        3.481094   \n1                                        3.516918   \n2                                        3.187255   \n3                                        3.256517   \n4                                        3.404748   \n\n   dim_5__permutation_entropy__dimension_6__tau_1  \\\n0                                        3.956499   \n1                                        4.094068   \n2                                        3.750715   \n3                                        3.803134   \n4                                        4.040921   \n\n   dim_5__permutation_entropy__dimension_7__tau_1  \n0                                        4.255568  \n1                                        4.316511  \n2                                        4.163070  \n3                                        4.163467  \n4                                        4.395817  \n\n[5 rows x 4638 columns]",
      "text/html": "<div>\n<style scoped>\n    .dataframe tbody tr th:only-of-type {\n        vertical-align: middle;\n    }\n\n    .dataframe tbody tr th {\n        vertical-align: top;\n    }\n\n    .dataframe thead th {\n        text-align: right;\n    }\n</style>\n<table border=\"1\" class=\"dataframe\">\n  <thead>\n    <tr style=\"text-align: right;\">\n      <th></th>\n      <th>dim_0__variance_larger_than_standard_deviation</th>\n      <th>dim_0__has_duplicate_max</th>\n      <th>dim_0__has_duplicate_min</th>\n      <th>dim_0__has_duplicate</th>\n      <th>dim_0__sum_values</th>\n      <th>dim_0__abs_energy</th>\n      <th>dim_0__mean_abs_change</th>\n      <th>dim_0__mean_change</th>\n      <th>dim_0__mean_second_derivative_central</th>\n      <th>dim_0__median</th>\n      <th>...</th>\n      <th>dim_5__fourier_entropy__bins_2</th>\n      <th>dim_5__fourier_entropy__bins_3</th>\n      <th>dim_5__fourier_entropy__bins_5</th>\n      <th>dim_5__fourier_entropy__bins_10</th>\n      <th>dim_5__fourier_entropy__bins_100</th>\n      <th>dim_5__permutation_entropy__dimension_3__tau_1</th>\n      <th>dim_5__permutation_entropy__dimension_4__tau_1</th>\n      <th>dim_5__permutation_entropy__dimension_5__tau_1</th>\n      <th>dim_5__permutation_entropy__dimension_6__tau_1</th>\n      <th>dim_5__permutation_entropy__dimension_7__tau_1</th>\n    </tr>\n  </thead>\n  <tbody>\n    <tr>\n      <th>0</th>\n      <td>0.0</td>\n      <td>0.0</td>\n      <td>1.0</td>\n      <td>1.0</td>\n      <td>-15.850238</td>\n      <td>9.885558</td>\n      <td>0.189084</td>\n      <td>0.008776</td>\n      <td>0.000000</td>\n      <td>-0.173755</td>\n      <td>...</td>\n      <td>0.399949</td>\n      <td>0.587228</td>\n      <td>0.800609</td>\n      <td>1.174565</td>\n      <td>2.571628</td>\n      <td>1.670317</td>\n      <td>2.754194</td>\n      <td>3.481094</td>\n      <td>3.956499</td>\n      <td>4.255568</td>\n    </tr>\n    <tr>\n      <th>1</th>\n      <td>0.0</td>\n      <td>0.0</td>\n      <td>0.0</td>\n      <td>1.0</td>\n      <td>-8.618429</td>\n      <td>10.629914</td>\n      <td>0.229193</td>\n      <td>-0.002871</td>\n      <td>-0.000061</td>\n      <td>-0.164268</td>\n      <td>...</td>\n      <td>0.320753</td>\n      <td>0.647776</td>\n      <td>1.124025</td>\n      <td>1.459587</td>\n      <td>3.130035</td>\n      <td>1.599592</td>\n      <td>2.614086</td>\n      <td>3.516918</td>\n      <td>4.094068</td>\n      <td>4.316511</td>\n    </tr>\n    <tr>\n      <th>2</th>\n      <td>1.0</td>\n      <td>0.0</td>\n      <td>0.0</td>\n      <td>1.0</td>\n      <td>54.455230</td>\n      <td>182.497205</td>\n      <td>0.921471</td>\n      <td>0.011501</td>\n      <td>0.006315</td>\n      <td>0.515937</td>\n      <td>...</td>\n      <td>0.096509</td>\n      <td>0.192626</td>\n      <td>0.261160</td>\n      <td>0.288342</td>\n      <td>1.148247</td>\n      <td>1.490467</td>\n      <td>2.391433</td>\n      <td>3.187255</td>\n      <td>3.750715</td>\n      <td>4.163070</td>\n    </tr>\n    <tr>\n      <th>3</th>\n      <td>1.0</td>\n      <td>1.0</td>\n      <td>0.0</td>\n      <td>1.0</td>\n      <td>54.248883</td>\n      <td>176.508713</td>\n      <td>0.979276</td>\n      <td>-0.009260</td>\n      <td>-0.000214</td>\n      <td>0.487162</td>\n      <td>...</td>\n      <td>0.165443</td>\n      <td>0.165443</td>\n      <td>0.192626</td>\n      <td>0.192626</td>\n      <td>1.168582</td>\n      <td>1.549961</td>\n      <td>2.471065</td>\n      <td>3.256517</td>\n      <td>3.803134</td>\n      <td>4.163467</td>\n    </tr>\n    <tr>\n      <th>4</th>\n      <td>1.0</td>\n      <td>0.0</td>\n      <td>0.0</td>\n      <td>1.0</td>\n      <td>572.652728</td>\n      <td>15899.872790</td>\n      <td>9.464065</td>\n      <td>0.145859</td>\n      <td>0.117438</td>\n      <td>10.569595</td>\n      <td>...</td>\n      <td>0.096509</td>\n      <td>0.192626</td>\n      <td>0.192626</td>\n      <td>0.356468</td>\n      <td>1.291345</td>\n      <td>1.580672</td>\n      <td>2.552210</td>\n      <td>3.404748</td>\n      <td>4.040921</td>\n      <td>4.395817</td>\n    </tr>\n  </tbody>\n</table>\n<p>5 rows × 4638 columns</p>\n</div>"
     },
     "execution_count": 21,
     "metadata": {},
     "output_type": "execute_result"
    }
   ],
   "source": [
    "t = TSFreshFeatureExtractor(default_fc_parameters=\"efficient\", show_warnings=False)\n",
    "Xt = t.fit_transform(X_train)\n",
    "Xt.head()"
   ],
   "metadata": {
    "collapsed": false,
    "pycharm": {
     "name": "#%%\n"
    }
   }
  },
  {
   "cell_type": "code",
   "execution_count": 22,
   "outputs": [],
   "source": [
    "from sklearn.ensemble import RandomForestRegressor\n",
    "\n",
    "from sktime.datasets import load_airline\n",
    "from sktime.forecasting.base import ForecastingHorizon\n",
    "from sktime.forecasting.compose import ReducedTimeSeriesRegressionForecaster\n",
    "from sktime.forecasting.model_selection import temporal_train_test_split\n",
    "\n",
    "y = load_airline()\n",
    "y_train, y_test = temporal_train_test_split(y)\n",
    "\n",
    "regressor = make_pipeline(\n",
    "    TSFreshFeatureExtractor(show_warnings=False, disable_progressbar=True),\n",
    "    RandomForestRegressor(),\n",
    ")\n",
    "forecaster = ReducedTimeSeriesRegressionForecaster(regressor, window_length=12)\n",
    "forecaster.fit(y_train)\n",
    "\n",
    "fh = ForecastingHorizon(y_test.index, is_relative=False)\n",
    "y_pred = forecaster.predict(fh)"
   ],
   "metadata": {
    "collapsed": false,
    "pycharm": {
     "name": "#%%\n"
    }
   }
  },
  {
   "cell_type": "code",
   "execution_count": 24,
   "outputs": [
    {
     "name": "stderr",
     "output_type": "stream",
     "text": [
      "/Users/denis/projects/tfs-covid19/venv/lib/python3.9/site-packages/seaborn/_decorators.py:36: FutureWarning: Pass the following variables as keyword args: x, y. From version 0.12, the only valid positional argument will be `data`, and passing other arguments without an explicit keyword will result in an error or misinterpretation.\n",
      "  warnings.warn(\n",
      "/Users/denis/projects/tfs-covid19/venv/lib/python3.9/site-packages/seaborn/_decorators.py:36: FutureWarning: Pass the following variables as keyword args: x, y. From version 0.12, the only valid positional argument will be `data`, and passing other arguments without an explicit keyword will result in an error or misinterpretation.\n",
      "  warnings.warn(\n",
      "/Users/denis/projects/tfs-covid19/venv/lib/python3.9/site-packages/seaborn/_decorators.py:36: FutureWarning: Pass the following variables as keyword args: x, y. From version 0.12, the only valid positional argument will be `data`, and passing other arguments without an explicit keyword will result in an error or misinterpretation.\n",
      "  warnings.warn(\n"
     ]
    },
    {
     "data": {
      "text/plain": "0.2655498642452444"
     },
     "execution_count": 24,
     "metadata": {},
     "output_type": "execute_result"
    },
    {
     "data": {
      "text/plain": "<Figure size 1152x288 with 1 Axes>",
      "image/png": "[encoded data removed]"
     },
     "metadata": {
      "needs_background": "light"
     },
     "output_type": "display_data"
    }
   ],
   "source": [
    "from sktime.utils.plotting import plot_series\n",
    "from sktime.performance_metrics.forecasting import sMAPE, smape_loss\n",
    "\n",
    "plot_series(y_train, y_test, y_pred, labels=[\"y_train\", \"y_test\", \"y_pred\"])\n",
    "smape_loss(y_test, y_pred)"
   ],
   "metadata": {
    "collapsed": false,
    "pycharm": {
     "name": "#%%\n"
    }
   }
  },
  {
   "cell_type": "code",
   "execution_count": 6,
   "outputs": [
    {
     "name": "stderr",
     "output_type": "stream",
     "text": [
      "2021-02-05 18:15:35,286 INFO |covid19.datasets| Dataset range: 2020-03-01 00:00:00 - 2021-02-04 00:00:00\n"
     ]
    }
   ],
   "source": [
    "from covid19.datasets import RnboGovUa\n",
    "from sktime.transformers.series_as_features.summarize import TSFreshFeatureExtractor\n",
    "dataset = RnboGovUa()\n",
    "df = dataset.prepare(metrics=dataset.metrics, country_filter=['Ukraine'])\n",
    "# print(df.head(10))\n",
    "# t = TSFreshFeatureExtractor(default_fc_parameters=\"efficient\", show_warnings=False)\n",
    "# Xt = t.fit_transform(df)\n",
    "# for date in df['date'].unuque():\n",
    "#     print(date)"
   ],
   "metadata": {
    "collapsed": false,
    "pycharm": {
     "name": "#%%\n"
    }
   }
  },
  {
   "cell_type": "code",
   "execution_count": 19,
   "outputs": [
    {
     "ename": "AttributeError",
     "evalue": "'DataFrameGroupBy' object has no attribute 'reset_index'",
     "output_type": "error",
     "traceback": [
      "\u001B[0;31m---------------------------------------------------------------------------\u001B[0m",
      "\u001B[0;31mAttributeError\u001B[0m                            Traceback (most recent call last)",
      "\u001B[0;32m<ipython-input-19-2c88126a5a78>\u001B[0m in \u001B[0;36m<module>\u001B[0;34m\u001B[0m\n\u001B[1;32m      1\u001B[0m \u001B[0;31m# print(df.head())\u001B[0m\u001B[0;34m\u001B[0m\u001B[0;34m\u001B[0m\u001B[0;34m\u001B[0m\u001B[0m\n\u001B[0;32m----> 2\u001B[0;31m \u001B[0mprint\u001B[0m\u001B[0;34m(\u001B[0m\u001B[0mdf\u001B[0m\u001B[0;34m.\u001B[0m\u001B[0mgroupby\u001B[0m\u001B[0;34m(\u001B[0m\u001B[0;34m'date'\u001B[0m\u001B[0;34m)\u001B[0m\u001B[0;34m.\u001B[0m\u001B[0mreset_index\u001B[0m\u001B[0;34m(\u001B[0m\u001B[0;34m)\u001B[0m\u001B[0;34m)\u001B[0m\u001B[0;34m\u001B[0m\u001B[0;34m\u001B[0m\u001B[0m\n\u001B[0m",
      "\u001B[0;32m~/projects/tfs-covid19/venv/lib/python3.9/site-packages/pandas/core/groupby/groupby.py\u001B[0m in \u001B[0;36m__getattr__\u001B[0;34m(self, attr)\u001B[0m\n\u001B[1;32m    750\u001B[0m             \u001B[0;32mreturn\u001B[0m \u001B[0mself\u001B[0m\u001B[0;34m[\u001B[0m\u001B[0mattr\u001B[0m\u001B[0;34m]\u001B[0m\u001B[0;34m\u001B[0m\u001B[0;34m\u001B[0m\u001B[0m\n\u001B[1;32m    751\u001B[0m \u001B[0;34m\u001B[0m\u001B[0m\n\u001B[0;32m--> 752\u001B[0;31m         raise AttributeError(\n\u001B[0m\u001B[1;32m    753\u001B[0m             \u001B[0;34mf\"'{type(self).__name__}' object has no attribute '{attr}'\"\u001B[0m\u001B[0;34m\u001B[0m\u001B[0;34m\u001B[0m\u001B[0m\n\u001B[1;32m    754\u001B[0m         )\n",
      "\u001B[0;31mAttributeError\u001B[0m: 'DataFrameGroupBy' object has no attribute 'reset_index'"
     ]
    }
   ],
   "source": [
    "# print(df.head())\n",
    "print(df.groupby('date').reset_index())"
   ],
   "metadata": {
    "collapsed": false,
    "pycharm": {
     "name": "#%%\n"
    }
   }
  },
  {
   "cell_type": "code",
   "execution_count": 7,
   "outputs": [],
   "source": [
    "y = df['delta_confirmed']\n",
    "X = df.drop(columns=\n",
    "    ['delta_deaths', 'delta_confirmed', 'delta_suspicion',\n",
    "     'existing', 'confirmed', 'delta_existing',\n",
    "     'suspicion', 'deaths', 'recovered', 'delta_recovered', 'country']\n",
    ")\n",
    "\n",
    "X['weekday'] = X['date'].dt.weekday"
   ],
   "metadata": {
    "collapsed": false,
    "pycharm": {
     "name": "#%%\n"
    }
   }
  },
  {
   "cell_type": "code",
   "execution_count": 20,
   "outputs": [
    {
     "ename": "NameError",
     "evalue": "name 'X' is not defined",
     "output_type": "error",
     "traceback": [
      "\u001B[0;31m---------------------------------------------------------------------------\u001B[0m",
      "\u001B[0;31mNameError\u001B[0m                                 Traceback (most recent call last)",
      "\u001B[0;32m<ipython-input-20-85ffa709ccfe>\u001B[0m in \u001B[0;36m<module>\u001B[0;34m\u001B[0m\n\u001B[1;32m      2\u001B[0m \u001B[0;31m# unique_regions = X['region'].unique().tolist()\u001B[0m\u001B[0;34m\u001B[0m\u001B[0;34m\u001B[0m\u001B[0;34m\u001B[0m\u001B[0m\n\u001B[1;32m      3\u001B[0m \u001B[0;31m# X['region_id'] = X.region.cat.codes\u001B[0m\u001B[0;34m\u001B[0m\u001B[0;34m\u001B[0m\u001B[0;34m\u001B[0m\u001B[0m\n\u001B[0;32m----> 4\u001B[0;31m \u001B[0mX\u001B[0m\u001B[0;34m[\u001B[0m\u001B[0;34m'region'\u001B[0m\u001B[0;34m]\u001B[0m \u001B[0;34m=\u001B[0m \u001B[0mX\u001B[0m\u001B[0;34m[\u001B[0m\u001B[0;34m'region'\u001B[0m\u001B[0;34m]\u001B[0m\u001B[0;34m.\u001B[0m\u001B[0mastype\u001B[0m\u001B[0;34m(\u001B[0m\u001B[0;34m'category'\u001B[0m\u001B[0;34m)\u001B[0m\u001B[0;34m.\u001B[0m\u001B[0mcat\u001B[0m\u001B[0;34m.\u001B[0m\u001B[0mcodes\u001B[0m\u001B[0;34m\u001B[0m\u001B[0;34m\u001B[0m\u001B[0m\n\u001B[0m\u001B[1;32m      5\u001B[0m \u001B[0mX\u001B[0m\u001B[0;34m.\u001B[0m\u001B[0mdrop\u001B[0m\u001B[0;34m(\u001B[0m\u001B[0mcolumns\u001B[0m\u001B[0;34m=\u001B[0m\u001B[0;34m[\u001B[0m\u001B[0;34m'region'\u001B[0m\u001B[0;34m]\u001B[0m\u001B[0;34m)\u001B[0m\u001B[0;34m\u001B[0m\u001B[0;34m\u001B[0m\u001B[0m\n\u001B[1;32m      6\u001B[0m \u001B[0;34m\u001B[0m\u001B[0m\n",
      "\u001B[0;31mNameError\u001B[0m: name 'X' is not defined"
     ]
    }
   ],
   "source": [
    "# regions_map = dict( enumerate(X.region.cat.categories) )\n",
    "# unique_regions = X['region'].unique().tolist()\n",
    "# X['region_id'] = X.region.cat.codes\n",
    "X['region'] = X['region'].astype('category').cat.codes\n",
    "X.drop(columns=['region'])\n",
    "\n",
    "print(X.head())"
   ],
   "metadata": {
    "collapsed": false,
    "pycharm": {
     "name": "#%%\n"
    }
   }
  },
  {
   "cell_type": "code",
   "execution_count": null,
   "outputs": [],
   "source": [
    "print(X.head())"
   ],
   "metadata": {
    "collapsed": false,
    "pycharm": {
     "name": "#%%\n"
    }
   }
  },
  {
   "cell_type": "code",
   "execution_count": 59,
   "outputs": [
    {
     "name": "stderr",
     "output_type": "stream",
     "text": [
      "Feature Extraction: 100%|██████████| 38/38 [00:06<00:00,  6.08it/s]\n"
     ]
    }
   ],
   "source": [
    "from tsfresh import extract_features\n",
    "extracted_features = extract_features(X, column_id=\"idx\", column_sort=\"date\")"
   ],
   "metadata": {
    "collapsed": false,
    "pycharm": {
     "name": "#%%\n"
    }
   }
  },
  {
   "cell_type": "code",
   "execution_count": 60,
   "outputs": [
    {
     "name": "stdout",
     "output_type": "stream",
     "text": [
      "     region__variance_larger_than_standard_deviation  \\\n",
      "0                                                1.0   \n",
      "1                                                1.0   \n",
      "2                                                1.0   \n",
      "3                                                1.0   \n",
      "4                                                1.0   \n",
      "..                                               ...   \n",
      "336                                              1.0   \n",
      "337                                              1.0   \n",
      "338                                              1.0   \n",
      "339                                              1.0   \n",
      "340                                              1.0   \n",
      "\n",
      "     region__has_duplicate_max  region__has_duplicate_min  \\\n",
      "0                          0.0                        0.0   \n",
      "1                          0.0                        0.0   \n",
      "2                          0.0                        0.0   \n",
      "3                          0.0                        0.0   \n",
      "4                          0.0                        0.0   \n",
      "..                         ...                        ...   \n",
      "336                        0.0                        0.0   \n",
      "337                        0.0                        0.0   \n",
      "338                        0.0                        0.0   \n",
      "339                        0.0                        0.0   \n",
      "340                        0.0                        0.0   \n",
      "\n",
      "     region__has_duplicate  region__sum_values  region__abs_energy  \\\n",
      "0                      0.0               300.0                36.0   \n",
      "1                      0.0               300.0                36.0   \n",
      "2                      0.0               300.0                36.0   \n",
      "3                      0.0               300.0                36.0   \n",
      "4                      0.0               300.0                36.0   \n",
      "..                     ...                 ...                 ...   \n",
      "336                    0.0               300.0                36.0   \n",
      "337                    0.0               300.0                36.0   \n",
      "338                    0.0               300.0                36.0   \n",
      "339                    0.0               300.0                36.0   \n",
      "340                    0.0               300.0                36.0   \n",
      "\n",
      "     region__mean_abs_change  region__mean_change  \\\n",
      "0                      6.875            -0.791667   \n",
      "1                      6.875            -0.791667   \n",
      "2                      6.875            -0.791667   \n",
      "3                      6.875            -0.791667   \n",
      "4                      6.875            -0.791667   \n",
      "..                       ...                  ...   \n",
      "336                    6.875            -0.791667   \n",
      "337                    6.875            -0.791667   \n",
      "338                    6.875            -0.791667   \n",
      "339                    6.875            -0.791667   \n",
      "340                    6.875            -0.791667   \n",
      "\n",
      "     region__mean_second_derivative_central  region__median  ...  \\\n",
      "0                                  0.173913            12.0  ...   \n",
      "1                                  0.173913            12.0  ...   \n",
      "2                                  0.173913            12.0  ...   \n",
      "3                                  0.173913            12.0  ...   \n",
      "4                                  0.173913            12.0  ...   \n",
      "..                                      ...             ...  ...   \n",
      "336                                0.173913            12.0  ...   \n",
      "337                                0.173913            12.0  ...   \n",
      "338                                0.173913            12.0  ...   \n",
      "339                                0.173913            12.0  ...   \n",
      "340                                0.173913            12.0  ...   \n",
      "\n",
      "     weekday__fourier_entropy__bins_2  weekday__fourier_entropy__bins_3  \\\n",
      "0                                 NaN                               NaN   \n",
      "1                                 NaN                               NaN   \n",
      "2                                 NaN                               NaN   \n",
      "3                                 NaN                               NaN   \n",
      "4                                 NaN                               NaN   \n",
      "..                                ...                               ...   \n",
      "336                               NaN                               NaN   \n",
      "337                               NaN                               NaN   \n",
      "338                               NaN                               NaN   \n",
      "339                               NaN                               NaN   \n",
      "340                               NaN                               NaN   \n",
      "\n",
      "     weekday__fourier_entropy__bins_5  weekday__fourier_entropy__bins_10  \\\n",
      "0                                 NaN                                NaN   \n",
      "1                                 NaN                                NaN   \n",
      "2                                 NaN                                NaN   \n",
      "3                                 NaN                                NaN   \n",
      "4                                 NaN                                NaN   \n",
      "..                                ...                                ...   \n",
      "336                               NaN                                NaN   \n",
      "337                               NaN                                NaN   \n",
      "338                               NaN                                NaN   \n",
      "339                               NaN                                NaN   \n",
      "340                               NaN                                NaN   \n",
      "\n",
      "     weekday__fourier_entropy__bins_100  \\\n",
      "0                                   NaN   \n",
      "1                                   NaN   \n",
      "2                                   NaN   \n",
      "3                                   NaN   \n",
      "4                                   NaN   \n",
      "..                                  ...   \n",
      "336                                 NaN   \n",
      "337                                 NaN   \n",
      "338                                 NaN   \n",
      "339                                 NaN   \n",
      "340                                 NaN   \n",
      "\n",
      "     weekday__permutation_entropy__dimension_3__tau_1  \\\n",
      "0                                                -0.0   \n",
      "1                                                -0.0   \n",
      "2                                                -0.0   \n",
      "3                                                -0.0   \n",
      "4                                                -0.0   \n",
      "..                                                ...   \n",
      "336                                              -0.0   \n",
      "337                                              -0.0   \n",
      "338                                              -0.0   \n",
      "339                                              -0.0   \n",
      "340                                              -0.0   \n",
      "\n",
      "     weekday__permutation_entropy__dimension_4__tau_1  \\\n",
      "0                                                -0.0   \n",
      "1                                                -0.0   \n",
      "2                                                -0.0   \n",
      "3                                                -0.0   \n",
      "4                                                -0.0   \n",
      "..                                                ...   \n",
      "336                                              -0.0   \n",
      "337                                              -0.0   \n",
      "338                                              -0.0   \n",
      "339                                              -0.0   \n",
      "340                                              -0.0   \n",
      "\n",
      "     weekday__permutation_entropy__dimension_5__tau_1  \\\n",
      "0                                                -0.0   \n",
      "1                                                -0.0   \n",
      "2                                                -0.0   \n",
      "3                                                -0.0   \n",
      "4                                                -0.0   \n",
      "..                                                ...   \n",
      "336                                              -0.0   \n",
      "337                                              -0.0   \n",
      "338                                              -0.0   \n",
      "339                                              -0.0   \n",
      "340                                              -0.0   \n",
      "\n",
      "     weekday__permutation_entropy__dimension_6__tau_1  \\\n",
      "0                                                -0.0   \n",
      "1                                                -0.0   \n",
      "2                                                -0.0   \n",
      "3                                                -0.0   \n",
      "4                                                -0.0   \n",
      "..                                                ...   \n",
      "336                                              -0.0   \n",
      "337                                              -0.0   \n",
      "338                                              -0.0   \n",
      "339                                              -0.0   \n",
      "340                                              -0.0   \n",
      "\n",
      "     weekday__permutation_entropy__dimension_7__tau_1  \n",
      "0                                                -0.0  \n",
      "1                                                -0.0  \n",
      "2                                                -0.0  \n",
      "3                                                -0.0  \n",
      "4                                                -0.0  \n",
      "..                                                ...  \n",
      "336                                              -0.0  \n",
      "337                                              -0.0  \n",
      "338                                              -0.0  \n",
      "339                                              -0.0  \n",
      "340                                              -0.0  \n",
      "\n",
      "[341 rows x 1558 columns]\n"
     ]
    }
   ],
   "source": [
    "print(extracted_features)"
   ],
   "metadata": {
    "collapsed": false,
    "pycharm": {
     "name": "#%%\n"
    }
   }
  },
  {
   "cell_type": "code",
   "execution_count": 62,
   "outputs": [
    {
     "ename": "AssertionError",
     "evalue": "X and y must contain the same number of samples.",
     "output_type": "error",
     "traceback": [
      "\u001B[0;31m---------------------------------------------------------------------------\u001B[0m",
      "\u001B[0;31mAssertionError\u001B[0m                            Traceback (most recent call last)",
      "\u001B[0;32m<ipython-input-62-ce1addc86c1d>\u001B[0m in \u001B[0;36m<module>\u001B[0;34m\u001B[0m\n\u001B[1;32m      2\u001B[0m \u001B[0;32mfrom\u001B[0m \u001B[0mtsfresh\u001B[0m\u001B[0;34m.\u001B[0m\u001B[0mutilities\u001B[0m\u001B[0;34m.\u001B[0m\u001B[0mdataframe_functions\u001B[0m \u001B[0;32mimport\u001B[0m \u001B[0mimpute\u001B[0m\u001B[0;34m\u001B[0m\u001B[0;34m\u001B[0m\u001B[0m\n\u001B[1;32m      3\u001B[0m \u001B[0mimpute\u001B[0m\u001B[0;34m(\u001B[0m\u001B[0mextracted_features\u001B[0m\u001B[0;34m)\u001B[0m\u001B[0;34m\u001B[0m\u001B[0;34m\u001B[0m\u001B[0m\n\u001B[0;32m----> 4\u001B[0;31m \u001B[0mfeatures_filtered\u001B[0m \u001B[0;34m=\u001B[0m \u001B[0mselect_features\u001B[0m\u001B[0;34m(\u001B[0m\u001B[0mextracted_features\u001B[0m\u001B[0;34m,\u001B[0m \u001B[0my\u001B[0m\u001B[0;34m)\u001B[0m\u001B[0;34m\u001B[0m\u001B[0;34m\u001B[0m\u001B[0m\n\u001B[0m",
      "\u001B[0;32m~/projects/tfs-covid19/venv/lib/python3.9/site-packages/tsfresh/feature_selection/selection.py\u001B[0m in \u001B[0;36mselect_features\u001B[0;34m(X, y, test_for_binary_target_binary_feature, test_for_binary_target_real_feature, test_for_real_target_binary_feature, test_for_real_target_real_feature, fdr_level, hypotheses_independent, n_jobs, show_warnings, chunksize, ml_task)\u001B[0m\n\u001B[1;32m    132\u001B[0m                                                    \u001B[0;34m\"pandas.Series, numpy.ndarray\"\u001B[0m\u001B[0;34m\u001B[0m\u001B[0;34m\u001B[0m\u001B[0m\n\u001B[1;32m    133\u001B[0m     \u001B[0;32massert\u001B[0m \u001B[0mlen\u001B[0m\u001B[0;34m(\u001B[0m\u001B[0my\u001B[0m\u001B[0;34m)\u001B[0m \u001B[0;34m>\u001B[0m \u001B[0;36m1\u001B[0m\u001B[0;34m,\u001B[0m \u001B[0;34m\"y must contain at least two samples.\"\u001B[0m\u001B[0;34m\u001B[0m\u001B[0;34m\u001B[0m\u001B[0m\n\u001B[0;32m--> 134\u001B[0;31m     \u001B[0;32massert\u001B[0m \u001B[0mlen\u001B[0m\u001B[0;34m(\u001B[0m\u001B[0mX\u001B[0m\u001B[0;34m)\u001B[0m \u001B[0;34m==\u001B[0m \u001B[0mlen\u001B[0m\u001B[0;34m(\u001B[0m\u001B[0my\u001B[0m\u001B[0;34m)\u001B[0m\u001B[0;34m,\u001B[0m \u001B[0;34m\"X and y must contain the same number of samples.\"\u001B[0m\u001B[0;34m\u001B[0m\u001B[0;34m\u001B[0m\u001B[0m\n\u001B[0m\u001B[1;32m    135\u001B[0m     \u001B[0;32massert\u001B[0m \u001B[0mlen\u001B[0m\u001B[0;34m(\u001B[0m\u001B[0mset\u001B[0m\u001B[0;34m(\u001B[0m\u001B[0my\u001B[0m\u001B[0;34m)\u001B[0m\u001B[0;34m)\u001B[0m \u001B[0;34m>\u001B[0m \u001B[0;36m1\u001B[0m\u001B[0;34m,\u001B[0m \u001B[0;34m\"Feature selection is only possible if more than 1 label/class is provided\"\u001B[0m\u001B[0;34m\u001B[0m\u001B[0;34m\u001B[0m\u001B[0m\n\u001B[1;32m    136\u001B[0m \u001B[0;34m\u001B[0m\u001B[0m\n",
      "\u001B[0;31mAssertionError\u001B[0m: X and y must contain the same number of samples."
     ]
    }
   ],
   "source": [
    "from tsfresh import select_features\n",
    "from tsfresh.utilities.dataframe_functions import impute\n",
    "impute(extracted_features)\n",
    "features_filtered = select_features(extracted_features, y)"
   ],
   "metadata": {
    "collapsed": false,
    "pycharm": {
     "name": "#%%\n"
    }
   }
  },
  {
   "cell_type": "code",
   "execution_count": 37,
   "outputs": [
    {
     "name": "stdout",
     "output_type": "stream",
     "text": [
      "0    0\n",
      "1    0\n",
      "2    0\n",
      "3    0\n",
      "4    0\n",
      "Name: delta_confirmed, dtype: int64\n"
     ]
    }
   ],
   "source": [
    "print(y.head())"
   ],
   "metadata": {
    "collapsed": false,
    "pycharm": {
     "name": "#%%\n"
    }
   }
  },
  {
   "cell_type": "code",
   "execution_count": 38,
   "outputs": [
    {
     "name": "stdout",
     "output_type": "stream",
     "text": [
      "(6393, 5) (6393,) (2132, 5) (2132,)\n"
     ]
    }
   ],
   "source": [
    "X_train, X_test, y_train, y_test = train_test_split(X, y)\n",
    "print(X_train.shape, y_train.shape, X_test.shape, y_test.shape)"
   ],
   "metadata": {
    "collapsed": false,
    "pycharm": {
     "name": "#%%\n"
    }
   }
  },
  {
   "cell_type": "code",
   "execution_count": 39,
   "outputs": [
    {
     "ename": "ValueError",
     "evalue": "If passed as a pd.DataFrame, X must be a nested pd.DataFrame, with pd.Series or np.arrays inside cells.",
     "output_type": "error",
     "traceback": [
      "\u001B[0;31m---------------------------------------------------------------------------\u001B[0m",
      "\u001B[0;31mValueError\u001B[0m                                Traceback (most recent call last)",
      "\u001B[0;32m<ipython-input-39-af8c8af82f86>\u001B[0m in \u001B[0;36m<module>\u001B[0;34m\u001B[0m\n\u001B[1;32m      1\u001B[0m \u001B[0mt\u001B[0m \u001B[0;34m=\u001B[0m \u001B[0mTSFreshFeatureExtractor\u001B[0m\u001B[0;34m(\u001B[0m\u001B[0mdefault_fc_parameters\u001B[0m\u001B[0;34m=\u001B[0m\u001B[0;34m\"efficient\"\u001B[0m\u001B[0;34m,\u001B[0m \u001B[0mshow_warnings\u001B[0m\u001B[0;34m=\u001B[0m\u001B[0;32mFalse\u001B[0m\u001B[0;34m)\u001B[0m\u001B[0;34m\u001B[0m\u001B[0;34m\u001B[0m\u001B[0m\n\u001B[0;32m----> 2\u001B[0;31m \u001B[0mXt\u001B[0m \u001B[0;34m=\u001B[0m \u001B[0mt\u001B[0m\u001B[0;34m.\u001B[0m\u001B[0mfit_transform\u001B[0m\u001B[0;34m(\u001B[0m\u001B[0mX_train\u001B[0m\u001B[0;34m)\u001B[0m\u001B[0;34m\u001B[0m\u001B[0;34m\u001B[0m\u001B[0m\n\u001B[0m\u001B[1;32m      3\u001B[0m \u001B[0mXt\u001B[0m\u001B[0;34m.\u001B[0m\u001B[0mhead\u001B[0m\u001B[0;34m(\u001B[0m\u001B[0;34m)\u001B[0m\u001B[0;34m\u001B[0m\u001B[0;34m\u001B[0m\u001B[0m\n",
      "\u001B[0;32m~/projects/tfs-covid19/venv/lib/python3.9/site-packages/sktime/transformers/series_as_features/base.py\u001B[0m in \u001B[0;36mfit_transform\u001B[0;34m(self, X, y, **fit_params)\u001B[0m\n\u001B[1;32m     39\u001B[0m         \u001B[0;32mif\u001B[0m \u001B[0my\u001B[0m \u001B[0;32mis\u001B[0m \u001B[0;32mNone\u001B[0m\u001B[0;34m:\u001B[0m\u001B[0;34m\u001B[0m\u001B[0;34m\u001B[0m\u001B[0m\n\u001B[1;32m     40\u001B[0m             \u001B[0;31m# fit method of arity 1 (unsupervised transformation)\u001B[0m\u001B[0;34m\u001B[0m\u001B[0;34m\u001B[0m\u001B[0;34m\u001B[0m\u001B[0m\n\u001B[0;32m---> 41\u001B[0;31m             \u001B[0;32mreturn\u001B[0m \u001B[0mself\u001B[0m\u001B[0;34m.\u001B[0m\u001B[0mfit\u001B[0m\u001B[0;34m(\u001B[0m\u001B[0mX\u001B[0m\u001B[0;34m,\u001B[0m \u001B[0;34m**\u001B[0m\u001B[0mfit_params\u001B[0m\u001B[0;34m)\u001B[0m\u001B[0;34m.\u001B[0m\u001B[0mtransform\u001B[0m\u001B[0;34m(\u001B[0m\u001B[0mX\u001B[0m\u001B[0;34m)\u001B[0m\u001B[0;34m\u001B[0m\u001B[0;34m\u001B[0m\u001B[0m\n\u001B[0m\u001B[1;32m     42\u001B[0m         \u001B[0;31m# fit method of arity 2 (supervised transformation)\u001B[0m\u001B[0;34m\u001B[0m\u001B[0;34m\u001B[0m\u001B[0;34m\u001B[0m\u001B[0m\n\u001B[1;32m     43\u001B[0m         \u001B[0;32mreturn\u001B[0m \u001B[0mself\u001B[0m\u001B[0;34m.\u001B[0m\u001B[0mfit\u001B[0m\u001B[0;34m(\u001B[0m\u001B[0mX\u001B[0m\u001B[0;34m,\u001B[0m \u001B[0my\u001B[0m\u001B[0;34m,\u001B[0m \u001B[0;34m**\u001B[0m\u001B[0mfit_params\u001B[0m\u001B[0;34m)\u001B[0m\u001B[0;34m.\u001B[0m\u001B[0mtransform\u001B[0m\u001B[0;34m(\u001B[0m\u001B[0mX\u001B[0m\u001B[0;34m)\u001B[0m\u001B[0;34m\u001B[0m\u001B[0;34m\u001B[0m\u001B[0m\n",
      "\u001B[0;32m~/projects/tfs-covid19/venv/lib/python3.9/site-packages/sktime/transformers/series_as_features/summarize/_tsfresh.py\u001B[0m in \u001B[0;36mfit\u001B[0;34m(self, X, y)\u001B[0m\n\u001B[1;32m     65\u001B[0m         \u001B[0mself\u001B[0m \u001B[0;34m:\u001B[0m \u001B[0man\u001B[0m \u001B[0minstance\u001B[0m \u001B[0mof\u001B[0m \u001B[0mself\u001B[0m\u001B[0;34m\u001B[0m\u001B[0;34m\u001B[0m\u001B[0m\n\u001B[1;32m     66\u001B[0m         \"\"\"\n\u001B[0;32m---> 67\u001B[0;31m         \u001B[0mX\u001B[0m \u001B[0;34m=\u001B[0m \u001B[0mcheck_X\u001B[0m\u001B[0;34m(\u001B[0m\u001B[0mX\u001B[0m\u001B[0;34m,\u001B[0m \u001B[0mcoerce_to_pandas\u001B[0m\u001B[0;34m=\u001B[0m\u001B[0;32mTrue\u001B[0m\u001B[0;34m)\u001B[0m\u001B[0;34m\u001B[0m\u001B[0;34m\u001B[0m\u001B[0m\n\u001B[0m\u001B[1;32m     68\u001B[0m         \u001B[0mself\u001B[0m\u001B[0;34m.\u001B[0m\u001B[0mdefault_fc_parameters_\u001B[0m \u001B[0;34m=\u001B[0m \u001B[0mself\u001B[0m\u001B[0;34m.\u001B[0m\u001B[0m_get_extraction_params\u001B[0m\u001B[0;34m(\u001B[0m\u001B[0;34m)\u001B[0m\u001B[0;34m\u001B[0m\u001B[0;34m\u001B[0m\u001B[0m\n\u001B[1;32m     69\u001B[0m         \u001B[0mself\u001B[0m\u001B[0;34m.\u001B[0m\u001B[0m_is_fitted\u001B[0m \u001B[0;34m=\u001B[0m \u001B[0;32mTrue\u001B[0m\u001B[0;34m\u001B[0m\u001B[0;34m\u001B[0m\u001B[0m\n",
      "\u001B[0;32m~/projects/tfs-covid19/venv/lib/python3.9/site-packages/sktime/utils/validation/series_as_features.py\u001B[0m in \u001B[0;36mcheck_X\u001B[0;34m(X, enforce_univariate, enforce_min_instances, enforce_min_columns, coerce_to_numpy, coerce_to_pandas)\u001B[0m\n\u001B[1;32m     94\u001B[0m     \u001B[0;32mif\u001B[0m \u001B[0misinstance\u001B[0m\u001B[0;34m(\u001B[0m\u001B[0mX\u001B[0m\u001B[0;34m,\u001B[0m \u001B[0mpd\u001B[0m\u001B[0;34m.\u001B[0m\u001B[0mDataFrame\u001B[0m\u001B[0;34m)\u001B[0m\u001B[0;34m:\u001B[0m\u001B[0;34m\u001B[0m\u001B[0;34m\u001B[0m\u001B[0m\n\u001B[1;32m     95\u001B[0m         \u001B[0;32mif\u001B[0m \u001B[0;32mnot\u001B[0m \u001B[0mis_nested_dataframe\u001B[0m\u001B[0;34m(\u001B[0m\u001B[0mX\u001B[0m\u001B[0;34m)\u001B[0m\u001B[0;34m:\u001B[0m\u001B[0;34m\u001B[0m\u001B[0;34m\u001B[0m\u001B[0m\n\u001B[0;32m---> 96\u001B[0;31m             raise ValueError(\n\u001B[0m\u001B[1;32m     97\u001B[0m                 \u001B[0;34m\"If passed as a pd.DataFrame, X must be a nested \"\u001B[0m\u001B[0;34m\u001B[0m\u001B[0;34m\u001B[0m\u001B[0m\n\u001B[1;32m     98\u001B[0m                 \u001B[0;34m\"pd.DataFrame, with pd.Series or np.arrays inside cells.\"\u001B[0m\u001B[0;34m\u001B[0m\u001B[0;34m\u001B[0m\u001B[0m\n",
      "\u001B[0;31mValueError\u001B[0m: If passed as a pd.DataFrame, X must be a nested pd.DataFrame, with pd.Series or np.arrays inside cells."
     ]
    }
   ],
   "source": [
    "t = TSFreshFeatureExtractor(default_fc_parameters=\"efficient\", show_warnings=False)\n",
    "Xt = t.fit_transform(X_train)\n",
    "Xt.head()"
   ],
   "metadata": {
    "collapsed": false,
    "pycharm": {
     "name": "#%%\n"
    }
   }
  },
  {
   "cell_type": "code",
   "execution_count": 4,
   "outputs": [
    {
     "name": "stderr",
     "output_type": "stream",
     "text": [
      "2021-02-05 18:13:05,421 INFO |covid19.datasets| Dataset range: 2020-03-01 00:00:00 - 2021-02-04 00:00:00\n",
      "/Users/denis/projects/tfs-covid19/src/covid19/datasets.py:157: SettingWithCopyWarning: \n",
      "A value is trying to be set on a copy of a slice from a DataFrame.\n",
      "Try using .loc[row_indexer,col_indexer] = value instead\n",
      "\n",
      "See the caveats in the documentation: https://pandas.pydata.org/pandas-docs/stable/user_guide/indexing.html#returning-a-view-versus-a-copy\n",
      "  df['country'] = df.country.cat.codes\n",
      "/Users/denis/projects/tfs-covid19/src/covid19/datasets.py:158: SettingWithCopyWarning: \n",
      "A value is trying to be set on a copy of a slice from a DataFrame.\n",
      "Try using .loc[row_indexer,col_indexer] = value instead\n",
      "\n",
      "See the caveats in the documentation: https://pandas.pydata.org/pandas-docs/stable/user_guide/indexing.html#returning-a-view-versus-a-copy\n",
      "  df['region'] = df.region.cat.codes\n",
      "/Users/denis/projects/tfs-covid19/src/covid19/datasets.py:159: SettingWithCopyWarning: \n",
      "A value is trying to be set on a copy of a slice from a DataFrame.\n",
      "Try using .loc[row_indexer,col_indexer] = value instead\n",
      "\n",
      "See the caveats in the documentation: https://pandas.pydata.org/pandas-docs/stable/user_guide/indexing.html#returning-a-view-versus-a-copy\n",
      "  df['metric'] = df.metric.cat.codes\n"
     ]
    }
   ],
   "source": [
    "from covid19.datasets import RnboGovUa\n",
    "x, y = RnboGovUa().prepare_numpy(x_metrics=RnboGovUa.metrics, y_metrics={'delta_confirmed'})"
   ],
   "metadata": {
    "collapsed": false,
    "pycharm": {
     "name": "#%%\n"
    }
   }
  },
  {
   "cell_type": "code",
   "execution_count": 5,
   "outputs": [
    {
     "name": "stdout",
     "output_type": "stream",
     "text": [
      "341\n"
     ]
    }
   ],
   "source": [
    "print(len(y))"
   ],
   "metadata": {
    "collapsed": false,
    "pycharm": {
     "name": "#%%\n"
    }
   }
  }
 ],
 "metadata": {
  "kernelspec": {
   "display_name": "Python 3",
   "language": "python",
   "name": "python3"
  },
  "language_info": {
   "codemirror_mode": {
    "name": "ipython",
    "version": 2
   },
   "file_extension": ".py",
   "mimetype": "text/x-python",
   "name": "python",
   "nbconvert_exporter": "python",
   "pygments_lexer": "ipython2",
   "version": "2.7.6"
  }
 },
 "nbformat": 4,
 "nbformat_minor": 0
}