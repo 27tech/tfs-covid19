{
 "cells": [
  {
   "cell_type": "code",
   "execution_count": 6,
   "metadata": {
    "collapsed": true
   },
   "outputs": [
    {
     "name": "stderr",
     "output_type": "stream",
     "text": [
      "2021-02-08 19:55:29,602 INFO |covid19.datasets| Dataset range: 2020-04-01 00:00:00 - 2021-02-07 00:00:00\n"
     ]
    },
    {
     "name": "stdout",
     "output_type": "stream",
     "text": [
      "            idx  country           region  deaths  delta_suspicion  \\\n",
      "date                                                                 \n",
      "2020-04-01    0  Ukraine        Vinnytsia       0               17   \n",
      "2020-04-01    0  Ukraine         Volynska       0               50   \n",
      "2020-04-01    0  Ukraine  Dnipropetrovska       0               13   \n",
      "2020-04-01    0  Ukraine         Donetska       0               12   \n",
      "2020-04-01    0  Ukraine      Zhytomyrskа       1                6   \n",
      "\n",
      "            delta_deaths  delta_existing  delta_confirmed  recovered  \\\n",
      "date                                                                   \n",
      "2020-04-01             0               9                9          0   \n",
      "2020-04-01             0               3                3          0   \n",
      "2020-04-01             0               1                1          1   \n",
      "2020-04-01             0               1                1          0   \n",
      "2020-04-01             0               1                1          0   \n",
      "\n",
      "            delta_recovered  existing  suspicion  confirmed  \n",
      "date                                                         \n",
      "2020-04-01                0        51        133         51  \n",
      "2020-04-01                0        10        176         10  \n",
      "2020-04-01                0         9         96         10  \n",
      "2020-04-01                0         7         80          7  \n",
      "2020-04-01                0         5         65          6  \n"
     ]
    }
   ],
   "source": [
    "from covid19.datasets import RnboGovUa\n",
    "\n",
    "data_frame = RnboGovUa().prepare(RnboGovUa.metrics, country_filter=['Ukraine'])\n",
    "data_frame = data_frame.set_index('date')\n",
    "print(data_frame.head(5))"
   ]
  },
  {
   "cell_type": "code",
   "execution_count": 16,
   "outputs": [
    {
     "name": "stdout",
     "output_type": "stream",
     "text": [
      "            confirmed\n",
      "date                 \n",
      "2020-04-01        794\n",
      "2020-04-02        897\n",
      "2020-04-03       1072\n",
      "2020-04-04       1225\n",
      "2020-04-05       1251\n"
     ]
    }
   ],
   "source": [
    "data_confirmed = data_frame[['confirmed']]\n",
    "data_confirmed = data_confirmed.groupby('date').sum('confirmed')\n",
    "print(data_confirmed.head(5))"
   ],
   "metadata": {
    "collapsed": false,
    "pycharm": {
     "name": "#%%\n"
    }
   }
  },
  {
   "cell_type": "code",
   "execution_count": 57,
   "outputs": [
    {
     "name": "stdout",
     "output_type": "stream",
     "text": [
      "yesterday_diff min: 259.0 max: 16294.0\n",
      "            confirmed  yesterday  yesterday_diff\n",
      "date                                            \n",
      "2020-04-11       2511     2227.0           335.0\n",
      "2020-04-12       2801     2511.0           284.0\n",
      "2020-04-13       3104     2801.0           290.0\n",
      "2020-04-14       3420     3104.0           303.0\n",
      "2020-04-15       3764     3420.0           316.0\n"
     ]
    }
   ],
   "source": [
    "# inserting new column with yesterday's consumption values\n",
    "data_confirmed.loc[:,'yesterday'] = data_confirmed.loc[:,'confirmed'].shift()\n",
    "# inserting another column with difference between yesterday and day before yesterday's consumption values.\n",
    "data_confirmed.loc[:,'yesterday_diff'] = data_confirmed.loc[:,'yesterday'].diff()\n",
    "n = data_confirmed['yesterday_diff'].min()\n",
    "x = data_confirmed['yesterday_diff'].max()\n",
    "print(f'yesterday_diff min: {n} max: {x}')\n",
    "\n",
    "# dropping NAs\n",
    "data_confirmed = data_confirmed.dropna()\n",
    "print(data_confirmed.head(5))"
   ],
   "metadata": {
    "collapsed": false,
    "pycharm": {
     "name": "#%%\n"
    }
   }
  },
  {
   "cell_type": "code",
   "execution_count": 30,
   "outputs": [
    {
     "name": "stdout",
     "output_type": "stream",
     "text": [
      "            yesterday  yesterday_diff\n",
      "date                                 \n",
      "2021-01-27  1197107.0          2779.0\n",
      "2021-01-28  1200883.0          3776.0\n",
      "2021-01-29  1206412.0          5529.0\n",
      "2021-01-30  1211593.0          5181.0\n",
      "2021-01-31  1216278.0          4685.0\n",
      "date\n",
      "2021-01-27    1200883\n",
      "2021-01-28    1206412\n",
      "2021-01-29    1211593\n",
      "2021-01-30    1216278\n",
      "2021-01-31    1219455\n",
      "Name: confirmed, dtype: int64\n"
     ]
    }
   ],
   "source": [
    "from datetime import timedelta, datetime\n",
    "forecast_horizon = 7\n",
    "dt = datetime.now() - timedelta(days=forecast_horizon + 1)\n",
    "\n",
    "X_train = data_confirmed[:dt].drop(['confirmed'], axis = 1)\n",
    "print(X_train.tail(5))\n",
    "y_train = data_confirmed.loc[:dt, 'confirmed']\n",
    "print(y_train.tail(5))"
   ],
   "metadata": {
    "collapsed": false,
    "pycharm": {
     "name": "#%%\n"
    }
   }
  },
  {
   "cell_type": "code",
   "execution_count": 31,
   "outputs": [
    {
     "name": "stdout",
     "output_type": "stream",
     "text": [
      "            yesterday  yesterday_diff\n",
      "date                                 \n",
      "2021-02-01  1219455.0          3177.0\n",
      "2021-02-02  1221485.0          2030.0\n",
      "2021-02-03  1223879.0          2394.0\n",
      "2021-02-04  1227164.0          3285.0\n",
      "2021-02-05  1232246.0          5082.0\n",
      "2021-02-06  1237169.0          4923.0\n",
      "2021-02-07  1241479.0          4310.0\n",
      "date\n",
      "2021-02-01    1221485\n",
      "2021-02-02    1223879\n",
      "2021-02-03    1227164\n",
      "2021-02-04    1232246\n",
      "2021-02-05    1237169\n",
      "2021-02-06    1241479\n",
      "2021-02-07    1244849\n",
      "Name: confirmed, dtype: int64\n"
     ]
    }
   ],
   "source": [
    "X_test = data_confirmed[dt:].drop(['confirmed'], axis = 1)\n",
    "print(X_test.head(forecast_horizon))\n",
    "y_test = data_confirmed.loc[dt:, 'confirmed']\n",
    "print(y_test.head(forecast_horizon))"
   ],
   "metadata": {
    "collapsed": false,
    "pycharm": {
     "name": "#%%\n"
    }
   }
  },
  {
   "cell_type": "code",
   "execution_count": 32,
   "outputs": [],
   "source": [
    "from sklearn.model_selection import TimeSeriesSplit\n",
    "from sklearn.linear_model import LinearRegression\n",
    "from sklearn.neural_network import MLPRegressor\n",
    "from sklearn.neighbors import KNeighborsRegressor\n",
    "from sklearn.ensemble import RandomForestRegressor\n",
    "from sklearn.svm import SVR\n",
    "\n",
    "# Spot Check Algorithms\n",
    "models = []\n",
    "models.append(('LR', LinearRegression()))\n",
    "models.append(('NN', MLPRegressor(solver = 'lbfgs')))  #neural network\n",
    "models.append(('KNN', KNeighborsRegressor()))\n",
    "models.append(('RF', RandomForestRegressor(n_estimators = 10))) # Ensemble method - collection of many decision trees\n",
    "models.append(('SVR', SVR(gamma='auto'))) # kernel = linear"
   ],
   "metadata": {
    "collapsed": false,
    "pycharm": {
     "name": "#%%\n"
    }
   }
  },
  {
   "cell_type": "code",
   "execution_count": 35,
   "outputs": [],
   "source": [
    "import sklearn.metrics as metrics\n",
    "import numpy as np\n",
    "\n",
    "def regression_results(y_true, y_pred):\n",
    "    # Regression metrics\n",
    "    explained_variance=metrics.explained_variance_score(y_true, y_pred)\n",
    "    mean_absolute_error=metrics.mean_absolute_error(y_true, y_pred)\n",
    "    mse=metrics.mean_squared_error(y_true, y_pred)\n",
    "    mean_squared_log_error=metrics.mean_squared_log_error(y_true, y_pred)\n",
    "    median_absolute_error=metrics.median_absolute_error(y_true, y_pred)\n",
    "    r2=metrics.r2_score(y_true, y_pred)\n",
    "    print('explained_variance: ', round(explained_variance,4))\n",
    "    print('mean_squared_log_error: ', round(mean_squared_log_error,4))\n",
    "    print('r2: ', round(r2,4))\n",
    "    print('MAE: ', round(mean_absolute_error,4))\n",
    "    print('MSE: ', round(mse,4))\n",
    "    print('RMSE: ', round(np.sqrt(mse),4))"
   ],
   "metadata": {
    "collapsed": false,
    "pycharm": {
     "name": "#%%\n"
    }
   }
  },
  {
   "cell_type": "code",
   "execution_count": 60,
   "outputs": [
    {
     "name": "stdout",
     "output_type": "stream",
     "text": [
      "LR: 0.984510 (0.019599)\n",
      "NN: 0.984252 (0.019736)\n",
      "KNN: -12.316183 (3.470529)\n",
      "RF: -9.806971 (4.120765)\n",
      "SVR: -4139.433657 (8989.177991)\n"
     ]
    },
    {
     "name": "stderr",
     "output_type": "stream",
     "text": [
      "/Users/denis/projects/tfs-covid19/venv/lib/python3.9/site-packages/sklearn/neural_network/_multilayer_perceptron.py:500: ConvergenceWarning: lbfgs failed to converge (status=2):\n",
      "ABNORMAL_TERMINATION_IN_LNSRCH.\n",
      "\n",
      "Increase the number of iterations (max_iter) or scale the data as shown in:\n",
      "    https://scikit-learn.org/stable/modules/preprocessing.html\n",
      "  self.n_iter_ = _check_optimize_result(\"lbfgs\", opt_res, self.max_iter)\n"
     ]
    },
    {
     "data": {
      "text/plain": "<Figure size 432x288 with 1 Axes>",
      "image/png": "[encoded data removed]"
     },
     "metadata": {
      "needs_background": "light"
     },
     "output_type": "display_data"
    }
   ],
   "source": [
    "from sklearn.model_selection import cross_val_score\n",
    "from matplotlib import pyplot as plt\n",
    "# Evaluate each model in turn\n",
    "results = []\n",
    "names = []\n",
    "for name, model in models:\n",
    "    # TimeSeries Cross validation\n",
    "    tscv = TimeSeriesSplit(n_splits=50)\n",
    "\n",
    "    cv_results = cross_val_score(model, X_train, y_train, cv=tscv, scoring='r2')\n",
    "    results.append(cv_results)\n",
    "    names.append(name)\n",
    "    print('%s: %f (%f)' % (name, cv_results.mean(), cv_results.std()))\n",
    "\n",
    "# Compare Algorithms\n",
    "\n",
    "plt.boxplot(results, labels=names)\n",
    "plt.title('Algorithm Comparison')\n",
    "plt.show()"
   ],
   "metadata": {
    "collapsed": false,
    "pycharm": {
     "name": "#%%\n"
    }
   }
  },
  {
   "cell_type": "code",
   "execution_count": 48,
   "outputs": [
    {
     "name": "stdout",
     "output_type": "stream",
     "text": [
      "RandomForestRegressor(max_depth=11, n_estimators=20)\n"
     ]
    }
   ],
   "source": [
    "from sklearn.model_selection import GridSearchCV\n",
    "from sklearn.metrics import make_scorer\n",
    "\n",
    "\n",
    "def rmse(actual, predict):\n",
    "    predict = np.array(predict)\n",
    "    actual = np.array(actual)\n",
    "    distance = predict - actual\n",
    "    square_distance = distance ** 2\n",
    "    mean_square_distance = square_distance.mean()\n",
    "    score = np.sqrt(mean_square_distance)\n",
    "    return score\n",
    "\n",
    "rmse_score = make_scorer(rmse, greater_is_better = False)\n",
    "\n",
    "\n",
    "model = RandomForestRegressor()\n",
    "param_search = {\n",
    "    'n_estimators': [20, 50, 100],\n",
    "    'max_features': ['auto', 'sqrt', 'log2'],\n",
    "    'max_depth' : [i for i in range(5,15)]\n",
    "}\n",
    "tscv = TimeSeriesSplit(n_splits=10)\n",
    "gsearch = GridSearchCV(estimator=model, cv=tscv, param_grid=param_search, scoring = rmse_score)\n",
    "gsearch.fit(X_train, y_train)\n",
    "best_score = gsearch.best_score_\n",
    "best_model = gsearch.best_estimator_\n",
    "print(best_model)"
   ],
   "metadata": {
    "collapsed": false,
    "pycharm": {
     "name": "#%%\n"
    }
   }
  },
  {
   "cell_type": "code",
   "execution_count": 49,
   "outputs": [
    {
     "name": "stdout",
     "output_type": "stream",
     "text": [
      "explained_variance:  0.3495\n",
      "mean_squared_log_error:  0.0003\n",
      "r2:  -4.5796\n",
      "MAE:  18366.0929\n",
      "MSE:  381825407.6682\n",
      "RMSE:  19540.3533\n"
     ]
    }
   ],
   "source": [
    "y_true = y_test.values\n",
    "y_pred = best_model.predict(X_test)\n",
    "regression_results(y_true, y_pred)"
   ],
   "metadata": {
    "collapsed": false,
    "pycharm": {
     "name": "#%%\n"
    }
   }
  }
 ],
 "metadata": {
  "kernelspec": {
   "display_name": "Python 3",
   "language": "python",
   "name": "python3"
  },
  "language_info": {
   "codemirror_mode": {
    "name": "ipython",
    "version": 2
   },
   "file_extension": ".py",
   "mimetype": "text/x-python",
   "name": "python",
   "nbconvert_exporter": "python",
   "pygments_lexer": "ipython2",
   "version": "2.7.6"
  }
 },
 "nbformat": 4,
 "nbformat_minor": 0
}